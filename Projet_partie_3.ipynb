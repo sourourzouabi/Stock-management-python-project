{
 "cells": [
  {
   "cell_type": "code",
   "execution_count": 24,
   "metadata": {},
   "outputs": [],
   "source": [
    "def saisir_produit() :\n",
    "    nom = input(\"entrer un nom\")\n",
    "    puht = float ( input(\"entrer puht\") )\n",
    "    quantite = int(input(\"entrer un quantite \") )\n",
    "    return (nom,puht,quantite)"
   ]
  },
  {
   "cell_type": "code",
   "execution_count": 25,
   "metadata": {},
   "outputs": [],
   "source": [
    "def afficher_produit(nom,puht,quantite) :\n",
    "    message = \"%-8s|%-8.2f|%-5d\" %(nom,puht, quantite) \n",
    "    print(message)"
   ]
  },
  {
   "cell_type": "code",
   "execution_count": 26,
   "metadata": {},
   "outputs": [],
   "source": [
    "noms = []\n",
    "puhts = []\n",
    "quantites = []"
   ]
  },
  {
   "cell_type": "code",
   "execution_count": 27,
   "metadata": {},
   "outputs": [],
   "source": [
    "def ajouter_produit(noms,puht,quantite) :\n",
    "    nom,puht,quantite=saisir_produit()\n",
    "    noms.append(nom)\n",
    "    puhts.append(puht)\n",
    "    quantites.append(quantite)\n",
    "    return noms,puhts,quantites"
   ]
  },
  {
   "cell_type": "code",
   "execution_count": 28,
   "metadata": {},
   "outputs": [],
   "source": [
    "n=0\n",
    "def saisir_stock(n):\n",
    "  n=int(input(\"entrer le nombre de produit\"))\n",
    "  for i in range(n):\n",
    "    ajouter_produit(noms,puhts,quantites)\n",
    "saisir_stock(n)"
   ]
  },
  {
   "cell_type": "code",
   "execution_count": 29,
   "metadata": {},
   "outputs": [
    {
     "name": "stdout",
     "output_type": "stream",
     "text": [
      "NOM     |PUHT    | QUANTITE\n",
      "tv      |34.32   |5    \n",
      "mo      |78.21   |7    \n",
      "pc      |45.09   |9    \n"
     ]
    }
   ],
   "source": [
    "def afficher_stock():\n",
    "    print('NOM     |PUHT    | QUANTITE')\n",
    "    for i in range(len(noms)) :\n",
    "        message = afficher_produit(noms[i],puhts[i],quantites[i])\n",
    "afficher_stock() "
   ]
  },
  {
   "cell_type": "code",
   "execution_count": 30,
   "metadata": {},
   "outputs": [],
   "source": [
    "\n",
    "def rechercher_produit(nom): \n",
    "  indice=None\n",
    "  se_trouve=False \n",
    "  for i in range (0,len(noms)):\n",
    "    if nom==noms[i] :\n",
    "       indice=i \n",
    "       se_trouve=True\n",
    "  return se_trouve,indice\n",
    "\n",
    "        "
   ]
  },
  {
   "cell_type": "code",
   "execution_count": 31,
   "metadata": {},
   "outputs": [
    {
     "data": {
      "text/plain": [
       "(True, 1)"
      ]
     },
     "execution_count": 31,
     "metadata": {},
     "output_type": "execute_result"
    }
   ],
   "source": [
    "rechercher_produit('mo')"
   ]
  },
  {
   "cell_type": "code",
   "execution_count": 32,
   "metadata": {},
   "outputs": [],
   "source": [
    "def ajouter_produit1(nom,puht,quantite):\n",
    "      x=rechercher_produit(nom)\n",
    "      if x[0]==False : \n",
    "         noms.append(nom)\n",
    "         puhts.append(puht)\n",
    "         quantites.append(quantite)\n",
    "         return True \n",
    "      elif x[0]==True:\n",
    "        return False \n",
    "    \n"
   ]
  },
  {
   "cell_type": "code",
   "execution_count": 33,
   "metadata": {},
   "outputs": [
    {
     "data": {
      "text/plain": [
       "True"
      ]
     },
     "execution_count": 33,
     "metadata": {},
     "output_type": "execute_result"
    }
   ],
   "source": [
    "ajouter_produit1('td',52.3,4)   "
   ]
  },
  {
   "cell_type": "code",
   "execution_count": 34,
   "metadata": {},
   "outputs": [
    {
     "name": "stdout",
     "output_type": "stream",
     "text": [
      "NOM     |PUHT    | QUANTITE\n",
      "tv      |34.32   |5    \n",
      "mo      |78.21   |7    \n",
      "pc      |45.09   |9    \n",
      "td      |52.30   |4    \n"
     ]
    }
   ],
   "source": [
    "afficher_stock()  "
   ]
  },
  {
   "cell_type": "code",
   "execution_count": 35,
   "metadata": {},
   "outputs": [],
   "source": [
    "def supprimer_produit(nom):\n",
    "   x=rechercher_produit(nom)\n",
    "   if x[0]==True :\n",
    "      i=0\n",
    "      while noms[i]!=nom:\n",
    "         i=i+1\n",
    "      noms.remove(nom)\n",
    "      puhts.remove(puhts[i])\n",
    "      quantites.remove(quantites[i])\n",
    "      return True \n",
    "   elif x[0]==False :\n",
    "    return False"
   ]
  },
  {
   "cell_type": "code",
   "execution_count": 36,
   "metadata": {},
   "outputs": [
    {
     "data": {
      "text/plain": [
       "True"
      ]
     },
     "execution_count": 36,
     "metadata": {},
     "output_type": "execute_result"
    }
   ],
   "source": [
    "supprimer_produit('tv')\n",
    "\n"
   ]
  },
  {
   "cell_type": "code",
   "execution_count": 37,
   "metadata": {},
   "outputs": [
    {
     "name": "stdout",
     "output_type": "stream",
     "text": [
      "NOM     |PUHT    | QUANTITE\n",
      "mo      |78.21   |7    \n",
      "pc      |45.09   |9    \n",
      "td      |52.30   |4    \n"
     ]
    }
   ],
   "source": [
    "afficher_stock()"
   ]
  },
  {
   "cell_type": "code",
   "execution_count": 38,
   "metadata": {},
   "outputs": [],
   "source": [
    "def modifier_produit(nom,nom_new,puht_new,quantite_new):\n",
    "   x=rechercher_produit(nom)\n",
    "   if x[0]==True :\n",
    "       i=0\n",
    "       while nom!=noms[i]:\n",
    "        i=i+1\n",
    "       noms[i]= nom_new\n",
    "       puhts[i]=puht_new\n",
    "       quantites[i]=quantite_new \n",
    "       return True\n",
    "   else:\n",
    "        return False    \n"
   ]
  },
  {
   "cell_type": "code",
   "execution_count": 39,
   "metadata": {},
   "outputs": [
    {
     "data": {
      "text/plain": [
       "True"
      ]
     },
     "execution_count": 39,
     "metadata": {},
     "output_type": "execute_result"
    }
   ],
   "source": [
    "modifier_produit('mo', 'mic',400.55,10)"
   ]
  },
  {
   "cell_type": "code",
   "execution_count": 40,
   "metadata": {},
   "outputs": [
    {
     "name": "stdout",
     "output_type": "stream",
     "text": [
      "NOM     |PUHT    | QUANTITE\n",
      "mic     |400.55  |10   \n",
      "pc      |45.09   |9    \n",
      "td      |52.30   |4    \n"
     ]
    }
   ],
   "source": [
    "afficher_stock()\n"
   ]
  },
  {
   "cell_type": "code",
   "execution_count": 41,
   "metadata": {},
   "outputs": [],
   "source": [
    "max=100 \n",
    "def acheter_produit(nom,quantite):\n",
    "    i=0\n",
    "    while nom!=noms[i]:\n",
    "        i=i+1\n",
    "    if  quantites[i] + quantite > max:\n",
    "        return False \n",
    "    elif quantites[i] + quantite <= max :\n",
    "        quantites[i] += quantite\n",
    "        return True"
   ]
  },
  {
   "cell_type": "code",
   "execution_count": 42,
   "metadata": {},
   "outputs": [
    {
     "data": {
      "text/plain": [
       "True"
      ]
     },
     "execution_count": 42,
     "metadata": {},
     "output_type": "execute_result"
    }
   ],
   "source": [
    "acheter_produit(\"mic\",3)"
   ]
  },
  {
   "cell_type": "code",
   "execution_count": 43,
   "metadata": {},
   "outputs": [],
   "source": [
    "def vendre_produit(nom,quantite):\n",
    "    i=0\n",
    "    while nom!=noms[i]:\n",
    "        i=i+1\n",
    "    if  quantites[i] < quantite :\n",
    "        return False \n",
    "    else:\n",
    "        quantites[i] -= quantite\n",
    "        return True"
   ]
  },
  {
   "cell_type": "code",
   "execution_count": 44,
   "metadata": {},
   "outputs": [
    {
     "data": {
      "text/plain": [
       "True"
      ]
     },
     "execution_count": 44,
     "metadata": {},
     "output_type": "execute_result"
    }
   ],
   "source": [
    "vendre_produit(\"pc\",2)"
   ]
  },
  {
   "cell_type": "markdown",
   "metadata": {},
   "source": [
    "Partie 3"
   ]
  },
  {
   "cell_type": "code",
   "execution_count": 45,
   "metadata": {},
   "outputs": [],
   "source": [
    "def produit2chaine(nom,puht,quantite):\n",
    "  message='%s;%f;%d\\n'%(nom,puht,quantite)\n",
    "  return message"
   ]
  },
  {
   "cell_type": "code",
   "execution_count": 62,
   "metadata": {},
   "outputs": [],
   "source": [
    "def chaine2produit(message):\n",
    "    message.rstrip() \n",
    "    nom,puht,quantite=message.split(\";\")\n",
    "    return nom,float(puht),int(quantite)"
   ]
  },
  {
   "cell_type": "code",
   "execution_count": 63,
   "metadata": {},
   "outputs": [],
   "source": [
    "noms=['TV','MO','RFG']\n",
    "puhts=[1200.56789,350.7777,2100.4455]\n",
    "quantites=[5,25,3]"
   ]
  },
  {
   "cell_type": "code",
   "execution_count": 65,
   "metadata": {},
   "outputs": [],
   "source": [
    "def enregistrer_stock(fichier): \n",
    "  fichier = open(fichier, \"w+\")\n",
    "  for i in range(len(noms)) :\n",
    "        produits=produit2chaine(noms[i],puhts[i],quantites[i])\n",
    "        fichier.write(produits)\n",
    "  fichier.close()"
   ]
  },
  {
   "cell_type": "code",
   "execution_count": 58,
   "metadata": {},
   "outputs": [],
   "source": [
    "enregistrer_stock('produits.txt')"
   ]
  },
  {
   "cell_type": "code",
   "execution_count": 57,
   "metadata": {},
   "outputs": [],
   "source": [
    "noms=[]\n",
    "puhts=[]\n",
    "quantites=[]"
   ]
  },
  {
   "cell_type": "code",
   "execution_count": 56,
   "metadata": {},
   "outputs": [],
   "source": [
    "def charger_stock(fichier):\n",
    "    fichier = open(fichier,'r')\n",
    "    for ligne in fichier :\n",
    "        nom,puht,quantite=chaine2produit(ligne)\n",
    "        noms.append(nom)\n",
    "        puhts.append(puht)\n",
    "        quantites.append(quantite)\n",
    "    return noms,puhts,quantites"
   ]
  },
  {
   "cell_type": "code",
   "execution_count": null,
   "metadata": {},
   "outputs": [],
   "source": []
  }
 ],
 "metadata": {
  "kernelspec": {
   "display_name": "Python 3.9.12 ('base')",
   "language": "python",
   "name": "python3"
  },
  "language_info": {
   "codemirror_mode": {
    "name": "ipython",
    "version": 3
   },
   "file_extension": ".py",
   "mimetype": "text/x-python",
   "name": "python",
   "nbconvert_exporter": "python",
   "pygments_lexer": "ipython3",
   "version": "3.9.12"
  },
  "orig_nbformat": 4,
  "vscode": {
   "interpreter": {
    "hash": "f08154012ddadd8e950e6e9e035c7a7b32c136e7647e9b7c77e02eb723a8bedb"
   }
  }
 },
 "nbformat": 4,
 "nbformat_minor": 2
}
