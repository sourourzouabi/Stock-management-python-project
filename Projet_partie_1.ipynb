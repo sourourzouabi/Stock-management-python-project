{
 "cells": [
  {
   "cell_type": "markdown",
   "metadata": {},
   "source": [
    "Partie 1"
   ]
  },
  {
   "cell_type": "code",
   "execution_count": 2,
   "metadata": {},
   "outputs": [],
   "source": [
    "def saisir_produit() :\n",
    "    nom = input(\"entrer un nom\")\n",
    "    puht = float ( input(\"entrer puht\") )\n",
    "    quantite = int(input(\"entrer un quantite \") )\n",
    "    return (nom,puht,quantite)"
   ]
  },
  {
   "cell_type": "code",
   "execution_count": 15,
   "metadata": {},
   "outputs": [],
   "source": [
    "def afficher_produit(nom,puht,quantite) :\n",
    "    message = \"%-8s|%-8.2f|%-5d\" %(nom,puht, quantite) \n",
    "    print(message)"
   ]
  },
  {
   "cell_type": "code",
   "execution_count": 4,
   "metadata": {},
   "outputs": [],
   "source": [
    "noms = []\n",
    "puhts = []\n",
    "quantites = []"
   ]
  },
  {
   "cell_type": "code",
   "execution_count": 5,
   "metadata": {},
   "outputs": [],
   "source": [
    "def ajouter_produit(noms,puht,quantite) :\n",
    "    nom,puht,quantite=saisir_produit()\n",
    "    noms.append(nom)\n",
    "    puhts.append(puht)\n",
    "    quantites.append(quantite)\n",
    "    return noms,puhts,quantites"
   ]
  },
  {
   "cell_type": "code",
   "execution_count": 6,
   "metadata": {},
   "outputs": [],
   "source": [
    "n=0\n",
    "def saisir_stock(n):\n",
    "  n=int(input(\"entrer le nombre de produit\"))\n",
    "  for i in range(n):\n",
    "    ajouter_produit(noms,puhts,quantites)\n",
    "saisir_stock(n)"
   ]
  },
  {
   "cell_type": "code",
   "execution_count": 7,
   "metadata": {},
   "outputs": [
    {
     "name": "stdout",
     "output_type": "stream",
     "text": [
      "NOM     |PUHT    | QUANTITE\n",
      "tv      |34.60   |5    \n",
      "mo      |43.50   |4    \n"
     ]
    }
   ],
   "source": [
    "def afficher_stock():\n",
    "    print('NOM     |PUHT    | QUANTITE')\n",
    "    for i in range(len(noms)) :\n",
    "        message = afficher_produit(noms[i],puhts[i],quantites[i])\n",
    "afficher_stock() "
   ]
  }
 ],
 "metadata": {
  "kernelspec": {
   "display_name": "Python 3.9.12 ('base')",
   "language": "python",
   "name": "python3"
  },
  "language_info": {
   "codemirror_mode": {
    "name": "ipython",
    "version": 3
   },
   "file_extension": ".py",
   "mimetype": "text/x-python",
   "name": "python",
   "nbconvert_exporter": "python",
   "pygments_lexer": "ipython3",
   "version": "3.9.12"
  },
  "orig_nbformat": 4,
  "vscode": {
   "interpreter": {
    "hash": "f08154012ddadd8e950e6e9e035c7a7b32c136e7647e9b7c77e02eb723a8bedb"
   }
  }
 },
 "nbformat": 4,
 "nbformat_minor": 2
}
