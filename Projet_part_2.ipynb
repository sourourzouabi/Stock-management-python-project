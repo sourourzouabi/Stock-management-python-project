{
 "cells": [
  {
   "cell_type": "code",
   "execution_count": 8,
   "metadata": {},
   "outputs": [
    {
     "name": "stdout",
     "output_type": "stream",
     "text": [
      "NOMS|PUHT|QUANTITE\n",
      "xfg|45.25   |5       \n",
      "fgh|156.50  |5       \n"
     ]
    }
   ],
   "source": [
    "\n",
    "def saisir_produit():\n",
    "       nom=input(\"saisir le nom du produit\")\n",
    "       puht=float(input(\"saisir le puht du produit\"))\n",
    "       quantite=int(input(\"saisir la quantite du produit\"))\n",
    "       return (nom,puht,quantite)\n",
    "\n",
    "def afficher_produit(nom,puht,quantite):\n",
    "    message='%s|%-8.2f|%-8d'%(nom,puht,quantite)\n",
    "    print(message)\n",
    "\n",
    "noms=[]\n",
    "puhts=[]\n",
    "quantites=[]\n",
    "\n",
    "def ajouter_produit(nom,puht,quantite):\n",
    "    nom,puht,quantite=saisir_produit()\n",
    "    noms.append(nom)\n",
    "    puhts.append(puht)\n",
    "    quantites.append(quantite)\n",
    "    return (nom,puht,quantite)\n",
    "\n",
    "n=0\n",
    "n=int(input(\"saisir un entier n \"))\n",
    "def saisir_stock(n):\n",
    "    for i in range(n):\n",
    "       ajouter_produit(noms,puhts,quantites)\n",
    "saisir_stock(n)    \n",
    "def afficher_stock():\n",
    "    print(\"NOMS|PUHT|QUANTITE\")\n",
    "    for i in range(len(noms)):\n",
    "        message=afficher_produit(noms[i],puhts[i],quantites[i])\n",
    "afficher_stock()\n",
    "  "
   ]
  },
  {
   "cell_type": "code",
   "execution_count": 9,
   "metadata": {},
   "outputs": [],
   "source": [
    "def rechercher_produit(nom):\n",
    "    indice=None\n",
    "    se_trouve=False\n",
    "    for i in range(0,len(noms)):\n",
    "        if nom==noms[i]:\n",
    "            indice=i\n",
    "            se_trouve=True\n",
    "    return se_trouve,indice\n",
    "        \n"
   ]
  },
  {
   "cell_type": "code",
   "execution_count": 10,
   "metadata": {},
   "outputs": [
    {
     "data": {
      "text/plain": [
       "(False, None)"
      ]
     },
     "execution_count": 10,
     "metadata": {},
     "output_type": "execute_result"
    }
   ],
   "source": [
    "rechercher_produit(\"mac\")"
   ]
  },
  {
   "cell_type": "code",
   "execution_count": 11,
   "metadata": {},
   "outputs": [],
   "source": [
    "def ajouter_produit(nom,puht,quantite):\n",
    "    x=rechercher_produit(nom)\n",
    "    for i in range(0,len(noms)):\n",
    "        if x[0]==False:\n",
    "            noms.append(nom)\n",
    "            puhts.append(puht)\n",
    "            quantites.append(quantite)\n",
    "            return noms,puhts,quantites\n",
    "        elif x[0]==True:\n",
    "            return False         \n",
    "                     "
   ]
  },
  {
   "cell_type": "code",
   "execution_count": 12,
   "metadata": {},
   "outputs": [
    {
     "data": {
      "text/plain": [
       "(['xfg', 'fgh', 'rfg'], [45.25, 156.5, 1.5], [5, 5, 4])"
      ]
     },
     "execution_count": 12,
     "metadata": {},
     "output_type": "execute_result"
    }
   ],
   "source": [
    "ajouter_produit(\"rfg\",1.5,4)"
   ]
  },
  {
   "cell_type": "code",
   "execution_count": 13,
   "metadata": {},
   "outputs": [
    {
     "name": "stdout",
     "output_type": "stream",
     "text": [
      "NOMS|PUHT|QUANTITE\n",
      "xfg|45.25   |5       \n",
      "fgh|156.50  |5       \n",
      "rfg|1.50    |4       \n"
     ]
    }
   ],
   "source": [
    "afficher_stock()"
   ]
  },
  {
   "cell_type": "code",
   "execution_count": 14,
   "metadata": {},
   "outputs": [],
   "source": [
    "def supprimer_produit(nom,puht,quantite):\n",
    "    y=rechercher_produit(nom)\n",
    "    for i in range(0,len(noms)):\n",
    "            if y==noms[i]:\n",
    "                noms.remove(nom)\n",
    "                puhts.remove(puhts[i])\n",
    "                quantites.remove(quantites[i])\n",
    "                return True\n",
    "            else:\n",
    "                return False"
   ]
  },
  {
   "cell_type": "code",
   "execution_count": 15,
   "metadata": {},
   "outputs": [],
   "source": [
    "def modifier_produit(nom,nom_new,puht_new,quantite_new):\n",
    "    for i in range(len(noms)):\n",
    "        if noms[i]==nom:\n",
    "            noms[i]=nom_new\n",
    "            puhts[i]=puht_new\n",
    "            quantites[i]=quantite_new\n",
    "            return True\n",
    "    else:\n",
    "        return False"
   ]
  },
  {
   "cell_type": "code",
   "execution_count": 16,
   "metadata": {},
   "outputs": [
    {
     "name": "stdout",
     "output_type": "stream",
     "text": [
      "NOMS|PUHT|QUANTITE\n",
      "xfg|45.25   |5       \n",
      "fgh|156.50  |5       \n",
      "rfg|1.50    |4       \n"
     ]
    }
   ],
   "source": [
    "modifier_produit(\"tv\",\"mac\",50000,40)\n",
    "afficher_stock()"
   ]
  },
  {
   "cell_type": "code",
   "execution_count": 20,
   "metadata": {},
   "outputs": [
    {
     "name": "stdout",
     "output_type": "stream",
     "text": [
      "NOMS|PUHT|QUANTITE\n",
      "xfg|45.25   |35      \n",
      "fgh|156.50  |5       \n",
      "rfg|1.50    |4       \n"
     ]
    }
   ],
   "source": [
    "max=100\n",
    "def acheter_produit(nom,quantite):\n",
    "    y,indice=rechercher_produit(nom)\n",
    "    if quantite+quantites[indice]>max:\n",
    "            return False\n",
    "    else:\n",
    "            quantites[indice]=quantite+quantites[indice]\n",
    "            return True\n",
    "acheter_produit(\"xfg\",30)\n",
    "afficher_stock()"
   ]
  },
  {
   "cell_type": "code",
   "execution_count": 30,
   "metadata": {},
   "outputs": [
    {
     "data": {
      "text/plain": [
       "True"
      ]
     },
     "execution_count": 30,
     "metadata": {},
     "output_type": "execute_result"
    }
   ],
   "source": [
    "min=10\n",
    "def vendre_produit(nom,quantite):\n",
    "    y,indice=rechercher_produit(nom)\n",
    "    if quantite-quantites[indice]<min:\n",
    "        return False\n",
    "    else:\n",
    "        quantites[indice]=quantites[indice]-quantite\n",
    "        return True\n",
    "vendre_produit(\"xfg\",40)"
   ]
  },
  {
   "cell_type": "code",
   "execution_count": null,
   "metadata": {},
   "outputs": [],
   "source": []
  }
 ],
 "metadata": {
  "kernelspec": {
   "display_name": "Python 3.11.0 64-bit",
   "language": "python",
   "name": "python3"
  },
  "language_info": {
   "codemirror_mode": {
    "name": "ipython",
    "version": 3
   },
   "file_extension": ".py",
   "mimetype": "text/x-python",
   "name": "python",
   "nbconvert_exporter": "python",
   "pygments_lexer": "ipython3",
   "version": "3.11.0"
  },
  "orig_nbformat": 4,
  "vscode": {
   "interpreter": {
    "hash": "9a772caeeb54d4e8f26790d70bb569157b33c64034f31d7f355645096101fd3e"
   }
  }
 },
 "nbformat": 4,
 "nbformat_minor": 2
}
